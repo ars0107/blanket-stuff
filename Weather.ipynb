{
 "cells": [
  {
   "cell_type": "code",
   "execution_count": 1,
   "metadata": {},
   "outputs": [],
   "source": [
    "import requests\n",
    "from config import noaa_token"
   ]
  },
  {
   "cell_type": "code",
   "execution_count": 4,
   "metadata": {},
   "outputs": [],
   "source": [
    "# Austin, TX\n",
    "latitude = 30.2672\n",
    "longitude = -97.7431"
   ]
  },
  {
   "cell_type": "code",
   "execution_count": 5,
   "metadata": {},
   "outputs": [
    {
     "data": {
      "text/plain": [
       "{'metadata': {'resultset': {'offset': 1, 'count': 5, 'limit': 25}},\n",
       " 'results': [{'elevation': 175.9,\n",
       "   'mindate': '2010-04-01',\n",
       "   'maxdate': '2010-09-08',\n",
       "   'latitude': 30.257333,\n",
       "   'name': 'AUSTIN 3.5 SSW, TX US',\n",
       "   'datacoverage': 0.998,\n",
       "   'id': 'GHCND:US1TXTV0119',\n",
       "   'elevationUnit': 'METERS',\n",
       "   'longitude': -97.768978},\n",
       "  {'elevation': 178.6,\n",
       "   'mindate': '2012-10-01',\n",
       "   'maxdate': '2018-03-07',\n",
       "   'latitude': 30.254894,\n",
       "   'name': 'AUSTIN 3.7 SSW, TX US',\n",
       "   'datacoverage': 0.9288,\n",
       "   'id': 'GHCND:US1TXTV0171',\n",
       "   'elevationUnit': 'METERS',\n",
       "   'longitude': -97.7695789},\n",
       "  {'elevation': 139.6,\n",
       "   'mindate': '2013-07-01',\n",
       "   'maxdate': '2019-04-24',\n",
       "   'latitude': 30.251644,\n",
       "   'name': 'AUSTIN 4.0 SSE, TX US',\n",
       "   'datacoverage': 0.9994,\n",
       "   'id': 'GHCND:US1TXTV0198',\n",
       "   'elevationUnit': 'METERS',\n",
       "   'longitude': -97.726151},\n",
       "  {'elevation': 183.8,\n",
       "   'mindate': '2020-01-16',\n",
       "   'maxdate': '2021-02-23',\n",
       "   'latitude': 30.237363,\n",
       "   'name': 'AUSTIN 4.8 S, TX US',\n",
       "   'datacoverage': 0.998,\n",
       "   'id': 'GHCND:US1TXTV0347',\n",
       "   'elevationUnit': 'METERS',\n",
       "   'longitude': -97.764175},\n",
       "  {'elevation': 180.1,\n",
       "   'mindate': '1893-02-01',\n",
       "   'maxdate': '1942-07-31',\n",
       "   'latitude': 30.28333,\n",
       "   'name': 'AUSTIN, TX US',\n",
       "   'datacoverage': 0.9614,\n",
       "   'id': 'GHCND:USC00410420',\n",
       "   'elevationUnit': 'METERS',\n",
       "   'longitude': -97.73333}]}"
      ]
     },
     "execution_count": 5,
     "metadata": {},
     "output_type": "execute_result"
    }
   ],
   "source": [
    "lat_extent = .03\n",
    "lng_extent = .03\n",
    "\n",
    "headers = {'token':noaa_token}\n",
    "url = f'https://www.ncdc.noaa.gov/cdo-web/api/v2/stations?extent={latitude-lat_extent},{longitude-lng_extent},{latitude+lat_extent},{longitude+lng_extent}'\n",
    "response = requests.get(url, headers=headers)\n",
    "response.json()"
   ]
  },
  {
   "cell_type": "code",
   "execution_count": 6,
   "metadata": {},
   "outputs": [
    {
     "data": {
      "text/plain": [
       "[{'mindate': '1937-04-01',\n",
       "  'maxdate': '2021-05-08',\n",
       "  'name': 'Austin, MN US',\n",
       "  'datacoverage': 1,\n",
       "  'id': 'CITY:US270001'},\n",
       " {'mindate': '1893-01-01',\n",
       "  'maxdate': '2021-05-08',\n",
       "  'name': 'Austin, TX US',\n",
       "  'datacoverage': 1,\n",
       "  'id': 'CITY:US480005'}]"
      ]
     },
     "execution_count": 6,
     "metadata": {},
     "output_type": "execute_result"
    }
   ],
   "source": [
    "url = 'https://www.ncdc.noaa.gov/cdo-web/api/v2/locations?locationcategoryid=CITY&limit=1000&offset=1000'\n",
    "response = requests.get(url, headers=headers)\n",
    "[x for x in response.json()['results'] if 'austin' in x['name'].lower()]"
   ]
  },
  {
   "cell_type": "code",
   "execution_count": 7,
   "metadata": {},
   "outputs": [
    {
     "data": {
      "text/plain": [
       "'https://www.ncdc.noaa.gov/cdo-web/api/v2/locations?locationcategoryid=CITY&limit=1000&offset=1000'"
      ]
     },
     "execution_count": 7,
     "metadata": {},
     "output_type": "execute_result"
    }
   ],
   "source": [
    "url"
   ]
  },
  {
   "cell_type": "code",
   "execution_count": 21,
   "metadata": {},
   "outputs": [
    {
     "data": {
      "text/plain": [
       "3"
      ]
     },
     "execution_count": 21,
     "metadata": {},
     "output_type": "execute_result"
    }
   ],
   "source": [
    "#url = 'https://www.ncdc.noaa.gov/cdo-web/api/v2/locations'\n",
    "data = []\n",
    "url = 'https://www.ncdc.noaa.gov/cdo-web/api/v2/data?datasetid=GHCND&datatypeid=TMIN&datatypeid=TMAX&locationid=CITY:US480005&startdate=2020-01-01&enddate=2020-12-31&limit=1000'\n",
    "response = requests.get(url, headers=headers)\n",
    "data.append(response.json()['results'])\n",
    "for offset in range(1001,response.json()['metadata']['resultset']['count'],1000):\n",
    "    response = requests.get(f'{url}&offset={offset}', headers=headers)\n",
    "    data.append(response.json()['results'])\n",
    "data"
   ]
  },
  {
   "cell_type": "code",
   "execution_count": 22,
   "metadata": {},
   "outputs": [
    {
     "data": {
      "text/plain": [
       "2136"
      ]
     },
     "execution_count": 22,
     "metadata": {},
     "output_type": "execute_result"
    }
   ],
   "source": [
    "data = [item for sublist in data for item in sublist]\n",
    "len(data)"
   ]
  },
  {
   "cell_type": "code",
   "execution_count": 23,
   "metadata": {},
   "outputs": [],
   "source": [
    "import pandas as pd"
   ]
  },
  {
   "cell_type": "code",
   "execution_count": 26,
   "metadata": {},
   "outputs": [
    {
     "data": {
      "text/html": [
       "<div>\n",
       "<style scoped>\n",
       "    .dataframe tbody tr th:only-of-type {\n",
       "        vertical-align: middle;\n",
       "    }\n",
       "\n",
       "    .dataframe tbody tr th {\n",
       "        vertical-align: top;\n",
       "    }\n",
       "\n",
       "    .dataframe thead th {\n",
       "        text-align: right;\n",
       "    }\n",
       "</style>\n",
       "<table border=\"1\" class=\"dataframe\">\n",
       "  <thead>\n",
       "    <tr style=\"text-align: right;\">\n",
       "      <th></th>\n",
       "      <th>date</th>\n",
       "      <th>datatype</th>\n",
       "      <th>value</th>\n",
       "    </tr>\n",
       "  </thead>\n",
       "  <tbody>\n",
       "    <tr>\n",
       "      <th>0</th>\n",
       "      <td>2020-01-01</td>\n",
       "      <td>TMAX</td>\n",
       "      <td>58.64</td>\n",
       "    </tr>\n",
       "    <tr>\n",
       "      <th>1</th>\n",
       "      <td>2020-01-01</td>\n",
       "      <td>TMIN</td>\n",
       "      <td>45.32</td>\n",
       "    </tr>\n",
       "    <tr>\n",
       "      <th>2</th>\n",
       "      <td>2020-01-02</td>\n",
       "      <td>TMAX</td>\n",
       "      <td>58.70</td>\n",
       "    </tr>\n",
       "    <tr>\n",
       "      <th>3</th>\n",
       "      <td>2020-01-02</td>\n",
       "      <td>TMIN</td>\n",
       "      <td>45.98</td>\n",
       "    </tr>\n",
       "    <tr>\n",
       "      <th>4</th>\n",
       "      <td>2020-01-03</td>\n",
       "      <td>TMAX</td>\n",
       "      <td>63.02</td>\n",
       "    </tr>\n",
       "    <tr>\n",
       "      <th>...</th>\n",
       "      <td>...</td>\n",
       "      <td>...</td>\n",
       "      <td>...</td>\n",
       "    </tr>\n",
       "    <tr>\n",
       "      <th>727</th>\n",
       "      <td>2020-12-29</td>\n",
       "      <td>TMIN</td>\n",
       "      <td>61.64</td>\n",
       "    </tr>\n",
       "    <tr>\n",
       "      <th>728</th>\n",
       "      <td>2020-12-30</td>\n",
       "      <td>TMAX</td>\n",
       "      <td>73.64</td>\n",
       "    </tr>\n",
       "    <tr>\n",
       "      <th>729</th>\n",
       "      <td>2020-12-30</td>\n",
       "      <td>TMIN</td>\n",
       "      <td>50.00</td>\n",
       "    </tr>\n",
       "    <tr>\n",
       "      <th>730</th>\n",
       "      <td>2020-12-31</td>\n",
       "      <td>TMAX</td>\n",
       "      <td>54.02</td>\n",
       "    </tr>\n",
       "    <tr>\n",
       "      <th>731</th>\n",
       "      <td>2020-12-31</td>\n",
       "      <td>TMIN</td>\n",
       "      <td>37.34</td>\n",
       "    </tr>\n",
       "  </tbody>\n",
       "</table>\n",
       "<p>732 rows × 3 columns</p>\n",
       "</div>"
      ],
      "text/plain": [
       "          date datatype  value\n",
       "0   2020-01-01     TMAX  58.64\n",
       "1   2020-01-01     TMIN  45.32\n",
       "2   2020-01-02     TMAX  58.70\n",
       "3   2020-01-02     TMIN  45.98\n",
       "4   2020-01-03     TMAX  63.02\n",
       "..         ...      ...    ...\n",
       "727 2020-12-29     TMIN  61.64\n",
       "728 2020-12-30     TMAX  73.64\n",
       "729 2020-12-30     TMIN  50.00\n",
       "730 2020-12-31     TMAX  54.02\n",
       "731 2020-12-31     TMIN  37.34\n",
       "\n",
       "[732 rows x 3 columns]"
      ]
     },
     "execution_count": 26,
     "metadata": {},
     "output_type": "execute_result"
    }
   ],
   "source": [
    "df = pd.DataFrame(data)\n",
    "df['value'] = 9/5 * (df['value'] * 0.1) + 32\n",
    "df['date'] = pd.to_datetime(df['date'])\n",
    "df.groupby(['date','datatype'])['value'].mean().reset_index()"
   ]
  },
  {
   "cell_type": "code",
   "execution_count": 27,
   "metadata": {},
   "outputs": [
    {
     "data": {
      "text/html": [
       "<div>\n",
       "<style scoped>\n",
       "    .dataframe tbody tr th:only-of-type {\n",
       "        vertical-align: middle;\n",
       "    }\n",
       "\n",
       "    .dataframe tbody tr th {\n",
       "        vertical-align: top;\n",
       "    }\n",
       "\n",
       "    .dataframe thead th {\n",
       "        text-align: right;\n",
       "    }\n",
       "</style>\n",
       "<table border=\"1\" class=\"dataframe\">\n",
       "  <thead>\n",
       "    <tr style=\"text-align: right;\">\n",
       "      <th></th>\n",
       "      <th>TMAX</th>\n",
       "      <th>TMIN</th>\n",
       "      <th>AVG</th>\n",
       "    </tr>\n",
       "    <tr>\n",
       "      <th>date</th>\n",
       "      <th></th>\n",
       "      <th></th>\n",
       "      <th></th>\n",
       "    </tr>\n",
       "  </thead>\n",
       "  <tbody>\n",
       "    <tr>\n",
       "      <th>2020-01-01</th>\n",
       "      <td>58.64</td>\n",
       "      <td>45.32</td>\n",
       "      <td>51.98</td>\n",
       "    </tr>\n",
       "    <tr>\n",
       "      <th>2020-01-02</th>\n",
       "      <td>58.70</td>\n",
       "      <td>45.98</td>\n",
       "      <td>52.34</td>\n",
       "    </tr>\n",
       "    <tr>\n",
       "      <th>2020-01-03</th>\n",
       "      <td>63.02</td>\n",
       "      <td>44.96</td>\n",
       "      <td>53.99</td>\n",
       "    </tr>\n",
       "    <tr>\n",
       "      <th>2020-01-04</th>\n",
       "      <td>69.68</td>\n",
       "      <td>39.38</td>\n",
       "      <td>54.53</td>\n",
       "    </tr>\n",
       "    <tr>\n",
       "      <th>2020-01-05</th>\n",
       "      <td>73.34</td>\n",
       "      <td>40.34</td>\n",
       "      <td>56.84</td>\n",
       "    </tr>\n",
       "    <tr>\n",
       "      <th>...</th>\n",
       "      <td>...</td>\n",
       "      <td>...</td>\n",
       "      <td>...</td>\n",
       "    </tr>\n",
       "    <tr>\n",
       "      <th>2020-12-27</th>\n",
       "      <td>74.36</td>\n",
       "      <td>39.98</td>\n",
       "      <td>57.17</td>\n",
       "    </tr>\n",
       "    <tr>\n",
       "      <th>2020-12-28</th>\n",
       "      <td>75.68</td>\n",
       "      <td>49.94</td>\n",
       "      <td>62.81</td>\n",
       "    </tr>\n",
       "    <tr>\n",
       "      <th>2020-12-29</th>\n",
       "      <td>75.68</td>\n",
       "      <td>61.64</td>\n",
       "      <td>68.66</td>\n",
       "    </tr>\n",
       "    <tr>\n",
       "      <th>2020-12-30</th>\n",
       "      <td>73.64</td>\n",
       "      <td>50.00</td>\n",
       "      <td>61.82</td>\n",
       "    </tr>\n",
       "    <tr>\n",
       "      <th>2020-12-31</th>\n",
       "      <td>54.02</td>\n",
       "      <td>37.34</td>\n",
       "      <td>45.68</td>\n",
       "    </tr>\n",
       "  </tbody>\n",
       "</table>\n",
       "<p>366 rows × 3 columns</p>\n",
       "</div>"
      ],
      "text/plain": [
       "             TMAX   TMIN    AVG\n",
       "date                           \n",
       "2020-01-01  58.64  45.32  51.98\n",
       "2020-01-02  58.70  45.98  52.34\n",
       "2020-01-03  63.02  44.96  53.99\n",
       "2020-01-04  69.68  39.38  54.53\n",
       "2020-01-05  73.34  40.34  56.84\n",
       "...           ...    ...    ...\n",
       "2020-12-27  74.36  39.98  57.17\n",
       "2020-12-28  75.68  49.94  62.81\n",
       "2020-12-29  75.68  61.64  68.66\n",
       "2020-12-30  73.64  50.00  61.82\n",
       "2020-12-31  54.02  37.34  45.68\n",
       "\n",
       "[366 rows x 3 columns]"
      ]
     },
     "execution_count": 27,
     "metadata": {},
     "output_type": "execute_result"
    }
   ],
   "source": [
    "df = df.groupby(['date','datatype'])['value'].mean().reset_index().pivot(index='date', columns='datatype', values='value')\n",
    "df.columns.name = ''\n",
    "df['AVG'] = 0.5 * (df['TMAX'] + df['TMIN'])\n",
    "df"
   ]
  },
  {
   "cell_type": "code",
   "execution_count": 30,
   "metadata": {},
   "outputs": [],
   "source": [
    "df.to_json('austin_2020.json', orient='records')"
   ]
  },
  {
   "cell_type": "code",
   "execution_count": null,
   "metadata": {},
   "outputs": [],
   "source": []
  }
 ],
 "metadata": {
  "kernelspec": {
   "display_name": "Python 3",
   "language": "python",
   "name": "python3"
  },
  "language_info": {
   "codemirror_mode": {
    "name": "ipython",
    "version": 3
   },
   "file_extension": ".py",
   "mimetype": "text/x-python",
   "name": "python",
   "nbconvert_exporter": "python",
   "pygments_lexer": "ipython3",
   "version": "3.8.5"
  }
 },
 "nbformat": 4,
 "nbformat_minor": 4
}
