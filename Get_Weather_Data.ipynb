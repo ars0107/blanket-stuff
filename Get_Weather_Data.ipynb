{
 "cells": [
  {
   "cell_type": "code",
   "execution_count": null,
   "metadata": {},
   "outputs": [],
   "source": [
    "import requests\n",
    "import json\n",
    "from urllib.parse import quote_plus"
   ]
  },
  {
   "cell_type": "code",
   "execution_count": null,
   "metadata": {},
   "outputs": [],
   "source": [
    "location = input('What location would you like data for? ')\n",
    "year = input('What year would you like data for? ')\n",
    "api_key = input('What is your Visual Crossing API key?')\n",
    "\n",
    "url1 = f'https://weather.visualcrossing.com/VisualCrossingWebServices/rest/services/timeline/{quote_plus(location)}/{year}-1-1/{year}-6-30?unitGroup=us&key={api_key}&include=obs'\n",
    "url2 = f'https://weather.visualcrossing.com/VisualCrossingWebServices/rest/services/timeline/{quote_plus(location)}/{year}-7-1/{year}-12-31?unitGroup=us&key={api_key}&include=obs'\n",
    "\n",
    "response1 = requests.get(url1)\n",
    "response2 = requests.get(url2)\n",
    "\n",
    "data = response1.json()[\"days\"] + response2.json()[\"days\"]\n",
    "\n",
    "filename = f\"{location.replace(' ', '_').replace(',','-')}_{year}.json\"\n",
    "\n",
    "with open(f\"data/{filename}\", \"w\") as f:\n",
    "    json.dump(data, f)\n",
    "\n",
    "print(f'File saved at /data/{filename}.json')"
   ]
  },
  {
   "cell_type": "code",
   "execution_count": null,
   "metadata": {},
   "outputs": [],
   "source": []
  }
 ],
 "metadata": {
  "kernelspec": {
   "display_name": "Python 3",
   "language": "python",
   "name": "python3"
  },
  "language_info": {
   "codemirror_mode": {
    "name": "ipython",
    "version": 3
   },
   "file_extension": ".py",
   "mimetype": "text/x-python",
   "name": "python",
   "nbconvert_exporter": "python",
   "pygments_lexer": "ipython3",
   "version": "3.8.5"
  }
 },
 "nbformat": 4,
 "nbformat_minor": 4
}
